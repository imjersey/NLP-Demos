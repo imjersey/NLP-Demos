{
 "cells": [
  {
   "cell_type": "code",
   "execution_count": null,
   "metadata": {
    "collapsed": true
   },
   "outputs": [],
   "source": [
    "# ************* Chapter 图像识别 ********************** #\n",
    "import numpy as np\n",
    "from keras.datasets import mnist\n",
    "from keras.models import Sequential\n",
    "from keras.layers import Dense, Dropout, Flatten\n",
    "from keras.layers.convolutional import Conv2D, MaxPooling2D\n",
    "import sys\n",
    "sys.path.append(\"C:\\\\Users\\\\Administrator\\\\PycharmProjects\")\n",
    "import MLexperiments.classes\n",
    "from MLexperiments.classes import ReadAutoLabeledData\n",
    "import tensorflow as tf\n",
    "import MLexperiments.config.parameters\n",
    "FLAGS = None\n",
    "myDataSet = ReadAutoLabeledData.read_data_sets(one_hot=True, test_size = 0.1, validation_size = 0.1)\n",
    "\n",
    "(X_train, y_train), (X_test, y_test) , (X_Ftest, y_Ftest)= (myDataSet.train.images, myDataSet.train.labels), (myDataSet.validation.images, myDataSet.validation.labels), (myDataSet.test.images, myDataSet.test.labels)\n",
    "\n",
    "print(X_train[0].shape)\n",
    "print(y_train[0])\n",
    "\n",
    "X_train = X_train.reshape(X_train.shape[0], MLexperiments.config.parameters.SAMPLE_LEN, MLexperiments.config.parameters.SAMPLE_HEIGHT, 1).astype('float32')\n",
    "X_test = X_test.reshape(X_test.shape[0], MLexperiments.config.parameters.SAMPLE_LEN, MLexperiments.config.parameters.SAMPLE_HEIGHT, 1).astype('float32')\n",
    "#X_train /= 255\n",
    "#X_test /= 255\n",
    "\n",
    "\n",
    "# def tran_y(y):\n",
    "#     y_ohe = np.zeros(2)\n",
    "#     if y:\n",
    "#         y_ohe[1] = 1\n",
    "#     else:\n",
    "#         y_ohe[0] = 1\n",
    "#     return y_ohe\n",
    "def tran_y(y):\n",
    "    return y\n",
    "\n",
    "y_train_ohe = np.array([tran_y(y_train[i]) for i in range(len(y_train))])\n",
    "y_test_ohe = np.array([tran_y(y_test[i]) for i in range(len(y_test))])\n",
    "\n",
    "model = Sequential()\n",
    "model.add(\n",
    "    Conv2D(filters=64, kernel_size=(3, 3), strides=(1, 1), padding='same', input_shape=(MLexperiments.config.parameters.SAMPLE_LEN, MLexperiments.config.parameters.SAMPLE_HEIGHT, 1), activation='relu'))\n",
    "#model.add(MaxPooling2D(pool_size=(2, 2)))\n",
    "model.add(Dropout(0.5))\n",
    "model.add(Conv2D(128, kernel_size=(3, 3), strides=(1, 1), padding='same', activation='relu'))\n",
    "#model.add(MaxPooling2D(pool_size=(2, 2)))\n",
    "model.add(Dropout(0.5))\n",
    "model.add(Conv2D(256, kernel_size=(3, 3), strides=(1, 1), padding='same', activation='relu'))\n",
    "#model.add(MaxPooling2D(pool_size=(2, 2)))\n",
    "model.add(Dropout(0.5))\n",
    "model.add(Flatten())\n",
    "model.add(Dense(128, activation='relu'))\n",
    "model.add(Dense(64, activation='relu'))\n",
    "model.add(Dense(32, activation='relu'))\n",
    "model.add(Dense(2, activation='softmax'))\n",
    "\n",
    "model.compile(loss='categorical_crossentropy', optimizer='adagrad', metrics=['accuracy'])\n",
    "\n",
    "model.fit(X_train, y_train_ohe, validation_data=(X_test, y_test_ohe), epochs=20, batch_size=128)\n",
    "\n",
    "scores = model.evaluate(X_test, y_test_ohe, verbose=0)\n",
    "\n"
   ]
  }
 ],
 "metadata": {
  "kernelspec": {
   "display_name": "Python 3",
   "language": "python",
   "name": "python3"
  },
  "language_info": {
   "codemirror_mode": {
    "name": "ipython",
    "version": 3
   },
   "file_extension": ".py",
   "mimetype": "text/x-python",
   "name": "python",
   "nbconvert_exporter": "python",
   "pygments_lexer": "ipython3",
   "version": "3.5.3"
  }
 },
 "nbformat": 4,
 "nbformat_minor": 2
}
