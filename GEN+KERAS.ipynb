{
 "cells": [
  {
   "cell_type": "code",
   "execution_count": null,
   "metadata": {},
   "outputs": [
    {
     "name": "stderr",
     "output_type": "stream",
     "text": [
      "d:\\programdata\\anaconda3\\envs\\tensorflow\\lib\\site-packages\\ipykernel_launcher.py:93: UserWarning: The `merge` function is deprecated and will be removed after 08/2017. Use instead layers from `keras.layers.merge`, e.g. `add`, `concatenate`, etc.\n",
      "d:\\programdata\\anaconda3\\envs\\tensorflow\\lib\\site-packages\\keras\\legacy\\layers.py:458: UserWarning: The `Merge` layer is deprecated and will be removed after 08/2017. Use instead layers from `keras.layers.merge`, e.g. `add`, `concatenate`, etc.\n",
      "  name=name)\n",
      "d:\\programdata\\anaconda3\\envs\\tensorflow\\lib\\site-packages\\ipykernel_launcher.py:95: UserWarning: Update your `Model` call to the Keras 2 API: `Model(outputs=[<tf.Tenso..., inputs=[<tf.Tenso...)`\n"
     ]
    },
    {
     "name": "stdout",
     "output_type": "stream",
     "text": [
      "First word: file\n",
      "Word \"file\" is not in the index\n",
      "First word: as\n",
      "Second word: ass\n",
      "Word \"ass\" is not in the index\n",
      "First word: shit\n",
      "Word \"shit\" is not in the index\n",
      "First word: hole\n",
      "Word \"hole\" is not in the index\n",
      "First word: as\n",
      "Second word: as\n",
      "[[[[ 1.]]]]\n",
      "First word: as\n",
      "Second word: ok\n",
      "Word \"ok\" is not in the index\n",
      "First word: as\n",
      "Second word: natural\n",
      "Word \"natural\" is not in the index\n",
      "First word: nature\n",
      "Word \"nature\" is not in the index\n",
      "First word: language\n",
      "Second word: as\n",
      "[[[[ 0.99898654]]]]\n"
     ]
    }
   ],
   "source": [
    "from __future__ import print_function\n",
    "\n",
    "import json\n",
    "import os\n",
    "import numpy as np\n",
    "\n",
    "from gensim.models import Word2Vec\n",
    "from gensim.utils import simple_preprocess\n",
    "from keras.engine import Input\n",
    "from keras.layers import Embedding, merge\n",
    "from keras.models import Model\n",
    "\n",
    "# tokenizer: can change this as needed\n",
    "tokenize = lambda x: simple_preprocess(x)\n",
    "\n",
    "\n",
    "def create_embeddings(data_dir,\n",
    "                      embeddings_path='embeddings.npz',\n",
    "                      vocab_path='map.json',\n",
    "                      **params):\n",
    "    \"\"\"\n",
    "    Generate embeddings from a batch of text\n",
    "    :param embeddings_path: where to save the embeddings\n",
    "    :param vocab_path: where to save the word-index map\n",
    "    \"\"\"\n",
    "\n",
    "    class SentenceGenerator(object):\n",
    "        def __init__(self, dirname):\n",
    "            self.dirname = dirname\n",
    "\n",
    "        def __iter__(self):\n",
    "            for fname in os.listdir(self.dirname):\n",
    "                for line in open(os.path.join(self.dirname, fname)):\n",
    "                    yield tokenize(line)\n",
    "\n",
    "    sentences = SentenceGenerator(data_dir)\n",
    "\n",
    "    model = Word2Vec(sentences, **params)\n",
    "    weights = model.wv.syn0\n",
    "    np.save(open(embeddings_path, 'wb'), weights)\n",
    "\n",
    "    vocab = dict([(k, v.index) for k, v in model.wv.vocab.items()])\n",
    "    with open(vocab_path, 'w') as f:\n",
    "        f.write(json.dumps(vocab))\n",
    "\n",
    "\n",
    "def load_vocab(vocab_path='map.json'):\n",
    "    \"\"\"\n",
    "    Load word -> index and index -> word mappings\n",
    "    :param vocab_path: where the word-index map is saved\n",
    "    :return: word2idx, idx2word\n",
    "    \"\"\"\n",
    "\n",
    "    with open(vocab_path, 'r') as f:\n",
    "        data = json.loads(f.read())\n",
    "    word2idx = data\n",
    "    idx2word = dict([(v, k) for k, v in data.items()])\n",
    "    return word2idx, idx2word\n",
    "\n",
    "\n",
    "def word2vec_embedding_layer(embeddings_path='embeddings.npz'):\n",
    "    \"\"\"\n",
    "    Generate an embedding layer word2vec embeddings\n",
    "    :param embeddings_path: where the embeddings are saved (as a numpy file)\n",
    "    :return: the generated embedding layer\n",
    "    \"\"\"\n",
    "    \n",
    "    weights = np.load(open(embeddings_path, 'rb'))\n",
    "    layer = Embedding(input_dim=weights.shape[0],\n",
    "                      output_dim=weights.shape[1],\n",
    "                      weights=[weights])\n",
    "    return layer\n",
    "\n",
    "if __name__ == '__main__':\n",
    "    # specify embeddings in this environment variable\n",
    "    #data_path = os.environ['EMBEDDINGS_TEXT_PATH']\n",
    "\n",
    "    #data_path = \"C:\\\\Users\\\\Administrator\\Desktop\\code\\Keraslearning codes\\text.txt\"\n",
    "    data_path = 'C:\\\\Users\\\\Administrator\\\\Desktop\\\\code\\\\Keraslearning codes\\\\files'\n",
    "    # variable arguments are passed to gensim's word2vec model\n",
    "    create_embeddings(data_path, size=100, min_count=5,\n",
    "                      window=5, sg=1, iter=25)\n",
    "\n",
    "    word2idx, idx2word = load_vocab()\n",
    "\n",
    "    # cosine similarity model\n",
    "    input_a = Input(shape=(1,), dtype='int32', name='input_a')\n",
    "    input_b = Input(shape=(1,), dtype='int32', name='input_b')\n",
    "    embeddings = word2vec_embedding_layer()\n",
    "    embedding_a = embeddings(input_a)\n",
    "    embedding_b = embeddings(input_b)\n",
    "    similarity = merge([embedding_a, embedding_b],\n",
    "                       mode='cos', dot_axes=2)\n",
    "\n",
    "    model = Model(input=[input_a, input_b], output=[similarity])\n",
    "    model.compile(optimizer='sgd', loss='mse')\n",
    "    \n",
    "    while True:\n",
    "        word_a = input('First word: ')\n",
    "        if word_a not in word2idx:\n",
    "            print('Word \"%s\" is not in the index' % word_a)\n",
    "            continue\n",
    "        word_b = input('Second word: ')\n",
    "        if word_b not in word2idx:\n",
    "            print('Word \"%s\" is not in the index' % word_b)\n",
    "            continue\n",
    "        output = model.predict([np.asarray([word2idx[word_a]]),\n",
    "                                np.asarray([word2idx[word_b]])])\n",
    "        print(output)"
   ]
  },
  {
   "cell_type": "code",
   "execution_count": 15,
   "metadata": {},
   "outputs": [
    {
     "data": {
      "text/plain": [
       "'C:\\\\Users\\\\Administrator\\\\Desktop\\\\code\\\\Keraslearning codes'"
      ]
     },
     "execution_count": 15,
     "metadata": {},
     "output_type": "execute_result"
    }
   ],
   "source": [
    "os.getcwd()"
   ]
  },
  {
   "cell_type": "code",
   "execution_count": null,
   "metadata": {
    "collapsed": true
   },
   "outputs": [],
   "source": []
  }
 ],
 "metadata": {
  "kernelspec": {
   "display_name": "Python 3",
   "language": "python",
   "name": "python3"
  },
  "language_info": {
   "codemirror_mode": {
    "name": "ipython",
    "version": 3
   },
   "file_extension": ".py",
   "mimetype": "text/x-python",
   "name": "python",
   "nbconvert_exporter": "python",
   "pygments_lexer": "ipython3",
   "version": "3.5.3"
  }
 },
 "nbformat": 4,
 "nbformat_minor": 2
}
